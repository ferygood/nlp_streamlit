{
 "cells": [
  {
   "cell_type": "code",
   "execution_count": 1,
   "metadata": {},
   "outputs": [],
   "source": [
    "import dropbox"
   ]
  },
  {
   "cell_type": "code",
   "execution_count": 5,
   "metadata": {},
   "outputs": [
    {
     "data": {
      "text/plain": [
       "<dropbox.dropbox_client.Dropbox at 0x105f07d60>"
      ]
     },
     "execution_count": 5,
     "metadata": {},
     "output_type": "execute_result"
    }
   ],
   "source": [
    "dbx = dropbox.Dropbox(\"sl.BHU6cI2Z-lvZo8WDw1sBGu7IJYiYH4ZNSER8JYggFcn-2_-nWY37aW-wyxPhF5wOF6tGUy2i1egBQTHK9Ob-YN09pEG6hww-2Vj0JyygawWJxvi1RMObxv4ymkVabvxEJ5mK17itYhWS\")\n",
    "dbx"
   ]
  },
  {
   "cell_type": "code",
   "execution_count": 6,
   "metadata": {},
   "outputs": [
    {
     "data": {
      "text/plain": [
       "FullAccount(account_id='dbid:AAAgPkHsqvfWU4VXWDKRvuWfqqDamgxMu_c', account_type=AccountType('basic', None), country='TW', disabled=False, email='yaochung41@gmail.com', email_verified=True, is_paired=False, locale='en', name=Name(abbreviated_name='YC', display_name='Yao-Chung Chen', familiar_name='Yao-Chung', given_name='Yao-Chung', surname='Chen'), profile_photo_url='https://dl-web.dropbox.com/account_photo/get/dbaphid%3AAACZq_5ZTxKMhzj2udQSOCxqRfaC6ZDKrDY?size=128x128&vers=1594492137430', referral_link='https://www.dropbox.com/referrals/AABw0SxbN59qUsjjVS_DbAj13VmXPsjTOwc?src=app9-11974592', root_info=UserRootInfo(home_namespace_id='7976815664', root_namespace_id='7976815664'), team=NOT_SET, team_member_id=NOT_SET)"
      ]
     },
     "execution_count": 6,
     "metadata": {},
     "output_type": "execute_result"
    }
   ],
   "source": [
    "dbx.users_get_current_account()"
   ]
  },
  {
   "cell_type": "code",
   "execution_count": 28,
   "metadata": {},
   "outputs": [
    {
     "name": "stdout",
     "output_type": "stream",
     "text": [
      "assets\n",
      "variables\n",
      "keras_metadata.pb\n",
      "saved_model.pb\n"
     ]
    }
   ],
   "source": [
    "for entry in dbx.files_list_folder('/imdb_bert').entries:\n",
    "    print(entry.name)"
   ]
  },
  {
   "cell_type": "code",
   "execution_count": 32,
   "metadata": {},
   "outputs": [
    {
     "data": {
      "text/plain": [
       "DownloadZipResult(metadata=FolderMetadata(id='id:aDpxdBSUnwAAAAAAAAAADg', name='imdb_bert', parent_shared_folder_id=NOT_SET, path_display='/imdb_bert', path_lower='/imdb_bert', preview_url=NOT_SET, property_groups=NOT_SET, shared_folder_id=NOT_SET, sharing_info=NOT_SET))"
      ]
     },
     "execution_count": 32,
     "metadata": {},
     "output_type": "execute_result"
    }
   ],
   "source": [
    "dbx.files_download_zip_to_file(download_path=\"./imdb_bert.zip\", path=\"/imdb_bert\")"
   ]
  },
  {
   "cell_type": "code",
   "execution_count": 33,
   "metadata": {},
   "outputs": [],
   "source": [
    "import zipfile\n",
    "with zipfile.ZipFile('imdb_bert.zip') as zip_ref:\n",
    "  zip_ref.extractall(\"./\")"
   ]
  }
 ],
 "metadata": {
  "interpreter": {
   "hash": "ba7e1ce37d4d29bcee272ea1b8c8f4f0f0e416c4361c2433907fff92229db6ed"
  },
  "kernelspec": {
   "display_name": "Python 3.9.12 ('nlp')",
   "language": "python",
   "name": "python3"
  },
  "language_info": {
   "codemirror_mode": {
    "name": "ipython",
    "version": 3
   },
   "file_extension": ".py",
   "mimetype": "text/x-python",
   "name": "python",
   "nbconvert_exporter": "python",
   "pygments_lexer": "ipython3",
   "version": "3.9.12"
  },
  "orig_nbformat": 4
 },
 "nbformat": 4,
 "nbformat_minor": 2
}
